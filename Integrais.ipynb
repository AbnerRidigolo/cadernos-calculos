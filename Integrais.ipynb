{
  "nbformat": 4,
  "nbformat_minor": 0,
  "metadata": {
    "colab": {
      "provenance": [],
      "authorship_tag": "ABX9TyNZSPkCaugQtnHqSvbD5Utl",
      "include_colab_link": true
    },
    "kernelspec": {
      "name": "python3",
      "display_name": "Python 3"
    },
    "language_info": {
      "name": "python"
    }
  },
  "cells": [
    {
      "cell_type": "markdown",
      "metadata": {
        "id": "view-in-github",
        "colab_type": "text"
      },
      "source": [
        "<a href=\"https://colab.research.google.com/github/AbnerRidigolo/cadernos-calculos/blob/main/Integrais.ipynb\" target=\"_parent\"><img src=\"https://colab.research.google.com/assets/colab-badge.svg\" alt=\"Open In Colab\"/></a>"
      ]
    },
    {
      "cell_type": "code",
      "execution_count": 3,
      "metadata": {
        "id": "kydJysiZrD3B"
      },
      "outputs": [],
      "source": [
        "import numpy as np\n",
        "import pandas as pd\n",
        "import sympy as smp\n",
        "import matplotlib.pyplot as plt\n"
      ]
    },
    {
      "cell_type": "code",
      "source": [
        "# integral no pyrhon\n",
        "x = smp.Symbol('x')\n",
        "f = 2*x**2\n",
        "smp.integrate(f)"
      ],
      "metadata": {
        "colab": {
          "base_uri": "https://localhost:8080/",
          "height": 54
        },
        "id": "m2B19ZeDwdzP",
        "outputId": "2803a261-bf35-413c-802f-ecfebf691f61"
      },
      "execution_count": 4,
      "outputs": [
        {
          "output_type": "execute_result",
          "data": {
            "text/plain": [
              "2*x**3/3"
            ],
            "text/latex": "$\\displaystyle \\frac{2 x^{3}}{3}$"
          },
          "metadata": {},
          "execution_count": 4
        }
      ]
    },
    {
      "cell_type": "code",
      "source": [
        "# intervalo\n",
        "minimo = 0\n",
        "maximo = 24\n",
        "n = 8"
      ],
      "metadata": {
        "id": "se-OnmK0xgoC"
      },
      "execution_count": 6,
      "outputs": []
    },
    {
      "cell_type": "code",
      "source": [
        "# tamanho dos intervalos\n",
        "dx = (maximo - minimo) / n"
      ],
      "metadata": {
        "id": "6VCxtfvdxiv3"
      },
      "execution_count": 7,
      "outputs": []
    },
    {
      "cell_type": "code",
      "source": [
        "# transformar a funcao para ser utilizada em operações\n",
        "x = smp.Symbol('x')\n",
        "f = 2*x**2\n",
        "f_x = smp.lambdify(x, f)"
      ],
      "metadata": {
        "id": "KleNWX96xkbe"
      },
      "execution_count": 8,
      "outputs": []
    },
    {
      "cell_type": "code",
      "source": [
        "# criar a sequencia para o eixo x\n",
        "eixo_x = np.arange(minimo, maximo+dx, dx)\n",
        "eixo_x"
      ],
      "metadata": {
        "colab": {
          "base_uri": "https://localhost:8080/"
        },
        "id": "D8iNJPrHxoAh",
        "outputId": "2e2829a8-11a4-4029-cb16-faead7ab41ad"
      },
      "execution_count": 15,
      "outputs": [
        {
          "output_type": "execute_result",
          "data": {
            "text/plain": [
              "array([ 0.,  3.,  6.,  9., 12., 15., 18., 21., 24.])"
            ]
          },
          "metadata": {},
          "execution_count": 15
        }
      ]
    },
    {
      "cell_type": "code",
      "source": [
        "# criar sequencia para eixo y\n",
        "eixo_y = [f_x(i) for i in eixo_x]\n",
        "eixo_y"
      ],
      "metadata": {
        "colab": {
          "base_uri": "https://localhost:8080/"
        },
        "id": "kMEyWx0Gxsbs",
        "outputId": "e2ff7234-6bfc-4455-a5d4-5251d7d9af05"
      },
      "execution_count": 14,
      "outputs": [
        {
          "output_type": "execute_result",
          "data": {
            "text/plain": [
              "[np.float64(0.0),\n",
              " np.float64(18.0),\n",
              " np.float64(72.0),\n",
              " np.float64(162.0),\n",
              " np.float64(288.0),\n",
              " np.float64(450.0),\n",
              " np.float64(648.0),\n",
              " np.float64(882.0),\n",
              " np.float64(1152.0)]"
            ]
          },
          "metadata": {},
          "execution_count": 14
        }
      ]
    },
    {
      "cell_type": "code",
      "source": [
        "# criar o gráfico\n",
        "plt.bar(x = eixo_x, height = eixo_y, width=2)\n",
        "plt.plot(eixo_x, eixo_y, color='k')\n",
        "plt.show()"
      ],
      "metadata": {
        "colab": {
          "base_uri": "https://localhost:8080/",
          "height": 432
        },
        "id": "kClLXBryxvBF",
        "outputId": "b2c86f55-f187-4f60-a71c-3f42a1967ac1"
      },
      "execution_count": 11,
      "outputs": [
        {
          "output_type": "display_data",
          "data": {
            "text/plain": [
              "<Figure size 640x480 with 1 Axes>"
            ],
            "image/png": "[encoded data removed]"
          },
          "metadata": {}
        }
      ]
    },
    {
      "cell_type": "code",
      "source": [
        "# intervalo\n",
        "fx_dx = [i*dx for i in eixo_y]\n",
        "fx_dx"
      ],
      "metadata": {
        "colab": {
          "base_uri": "https://localhost:8080/"
        },
        "id": "CfbR0shRxEGg",
        "outputId": "e1672904-f325-458c-9ae1-c1687fa6e045"
      },
      "execution_count": 17,
      "outputs": [
        {
          "output_type": "execute_result",
          "data": {
            "text/plain": [
              "[np.float64(0.0),\n",
              " np.float64(54.0),\n",
              " np.float64(216.0),\n",
              " np.float64(486.0),\n",
              " np.float64(864.0),\n",
              " np.float64(1350.0),\n",
              " np.float64(1944.0),\n",
              " np.float64(2646.0),\n",
              " np.float64(3456.0)]"
            ]
          },
          "metadata": {},
          "execution_count": 17
        }
      ]
    },
    {
      "cell_type": "code",
      "source": [
        "sum(fx_dx)"
      ],
      "metadata": {
        "colab": {
          "base_uri": "https://localhost:8080/"
        },
        "id": "9E7HonGlyZHW",
        "outputId": "4e4109a1-5d7a-4e05-b9cd-abf973e0551b"
      },
      "execution_count": 18,
      "outputs": [
        {
          "output_type": "execute_result",
          "data": {
            "text/plain": [
              "np.float64(11016.0)"
            ]
          },
          "metadata": {},
          "execution_count": 18
        }
      ]
    },
    {
      "cell_type": "code",
      "source": [
        "# obter integral\n",
        "x = smp.Symbol('x')\n",
        "f = 2*x**2\n",
        "funcao_integral = smp.integrate(f)\n",
        "funcao_integral\n"
      ],
      "metadata": {
        "colab": {
          "base_uri": "https://localhost:8080/",
          "height": 54
        },
        "id": "bNSjLtoxycO5",
        "outputId": "8bf29052-8fc9-4af2-aed9-10285fc4c5af"
      },
      "execution_count": 19,
      "outputs": [
        {
          "output_type": "execute_result",
          "data": {
            "text/plain": [
              "2*x**3/3"
            ],
            "text/latex": "$\\displaystyle \\frac{2 x^{3}}{3}$"
          },
          "metadata": {},
          "execution_count": 19
        }
      ]
    },
    {
      "cell_type": "code",
      "source": [
        "# criar a função\n",
        "f_x = smp.lambdify(x, funcao_integral)"
      ],
      "metadata": {
        "id": "nbubCzsryw8S"
      },
      "execution_count": 20,
      "outputs": []
    },
    {
      "cell_type": "code",
      "source": [
        "# obter o valor da integral\n",
        "f_x(24) - f_x(0)"
      ],
      "metadata": {
        "colab": {
          "base_uri": "https://localhost:8080/"
        },
        "id": "6si2JpiQy08Q",
        "outputId": "b8fec3c1-f72d-42a4-de37-584023d0e303"
      },
      "execution_count": 21,
      "outputs": [
        {
          "output_type": "execute_result",
          "data": {
            "text/plain": [
              "9216.0"
            ]
          },
          "metadata": {},
          "execution_count": 21
        }
      ]
    },
    {
      "cell_type": "code",
      "source": [
        "11016.10 - 9216.10"
      ],
      "metadata": {
        "colab": {
          "base_uri": "https://localhost:8080/"
        },
        "id": "7Ae2l00izTgq",
        "outputId": "a2579b81-b922-4029-dc70-7c5ecfd54f82"
      },
      "execution_count": 22,
      "outputs": [
        {
          "output_type": "execute_result",
          "data": {
            "text/plain": [
              "1800.0"
            ]
          },
          "metadata": {},
          "execution_count": 22
        }
      ]
    },
    {
      "cell_type": "code",
      "source": [
        "# obter integral\n",
        "x = smp.Symbol('x')\n",
        "f = 2*x**2\n",
        "smp.integrate(f, (x, minimo, maximo))"
      ],
      "metadata": {
        "colab": {
          "base_uri": "https://localhost:8080/",
          "height": 37
        },
        "id": "l3uTYGRjznED",
        "outputId": "7ca72e9c-01e1-41cf-99cd-7d63d2a79475"
      },
      "execution_count": 23,
      "outputs": [
        {
          "output_type": "execute_result",
          "data": {
            "text/plain": [
              "9216"
            ],
            "text/latex": "$\\displaystyle 9216$"
          },
          "metadata": {},
          "execution_count": 23
        }
      ]
    },
    {
      "cell_type": "code",
      "metadata": {
        "id": "ptjp_SFdEyz8"
      },
      "source": [
        "# intervalo\n",
        "minimo = -50\n",
        "maximo = 50\n",
        "n = 10"
      ],
      "execution_count": 26,
      "outputs": []
    },
    {
      "cell_type": "code",
      "source": [
        "# tamanho dos intervalos\n",
        "dx = (maximo - minimo) / n"
      ],
      "metadata": {
        "id": "jXcCzGQ41hBG"
      },
      "execution_count": 27,
      "outputs": []
    },
    {
      "cell_type": "code",
      "metadata": {
        "id": "OpsKwtGnMUMH"
      },
      "source": [
        "# transformar a funcao para ser utilizada em operações\n",
        "x = smp.Symbol('x')\n",
        "f = 3*x**3 + x**2\n",
        "f_x = smp.lambdify(x, f)"
      ],
      "execution_count": 28,
      "outputs": []
    },
    {
      "cell_type": "code",
      "source": [
        "# criar a sequencia para o eixo x\n",
        "eixo_x = np.arange(minimo, maximo+dx, dx)"
      ],
      "metadata": {
        "id": "ObxOOl1V1m4T"
      },
      "execution_count": 29,
      "outputs": []
    },
    {
      "cell_type": "code",
      "source": [
        "# criar sequencia para eixo y\n",
        "eixo_y = [f_x(i) for i in eixo_x]"
      ],
      "metadata": {
        "id": "oQR_d9Uz1p4t"
      },
      "execution_count": 30,
      "outputs": []
    },
    {
      "cell_type": "code",
      "source": [
        "# criar o gráfico\n",
        "plt.bar(x = eixo_x, height = eixo_y, width=2)\n",
        "plt.plot(eixo_x, eixo_y, color='k')\n",
        "plt.show()"
      ],
      "metadata": {
        "colab": {
          "base_uri": "https://localhost:8080/",
          "height": 430
        },
        "id": "LwL4lLNZ1rkM",
        "outputId": "b5442362-db26-442c-ef4d-9c31ff73c1ab"
      },
      "execution_count": 31,
      "outputs": [
        {
          "output_type": "display_data",
          "data": {
            "text/plain": [
              "<Figure size 640x480 with 1 Axes>"
            ],
            "image/png": "[encoded data removed]"
          },
          "metadata": {}
        }
      ]
    },
    {
      "cell_type": "code",
      "source": [
        "fx_dx = [i*dx for i in eixo_y]"
      ],
      "metadata": {
        "id": "CMfKCnWm1wiW"
      },
      "execution_count": 32,
      "outputs": []
    },
    {
      "cell_type": "code",
      "source": [
        "sum(fx_dx)"
      ],
      "metadata": {
        "colab": {
          "base_uri": "https://localhost:8080/"
        },
        "id": "mwu_BBOZ1z-o",
        "outputId": "dc5ee263-c23d-4719-dad2-cbd0b4d172c5"
      },
      "execution_count": 33,
      "outputs": [
        {
          "output_type": "execute_result",
          "data": {
            "text/plain": [
              "np.float64(110000.0)"
            ]
          },
          "metadata": {},
          "execution_count": 33
        }
      ]
    },
    {
      "cell_type": "code",
      "source": [
        "# obter integral\n",
        "x = smp.Symbol('x')\n",
        "f = 3*x**3 + x**2\n",
        "funcao_integral = smp.integrate(f)\n",
        "funcao_integral"
      ],
      "metadata": {
        "colab": {
          "base_uri": "https://localhost:8080/",
          "height": 54
        },
        "id": "AnLXU5Fl13Cy",
        "outputId": "9afad572-efe5-44d0-d26a-371f0dd27956"
      },
      "execution_count": 34,
      "outputs": [
        {
          "output_type": "execute_result",
          "data": {
            "text/plain": [
              "3*x**4/4 + x**3/3"
            ],
            "text/latex": "$\\displaystyle \\frac{3 x^{4}}{4} + \\frac{x^{3}}{3}$"
          },
          "metadata": {},
          "execution_count": 34
        }
      ]
    },
    {
      "cell_type": "code",
      "source": [
        "250000/3"
      ],
      "metadata": {
        "colab": {
          "base_uri": "https://localhost:8080/"
        },
        "id": "2sFh6N4j19Pq",
        "outputId": "36ba7180-4edd-4e8b-a8b6-c0b2ab46279c"
      },
      "execution_count": 35,
      "outputs": [
        {
          "output_type": "execute_result",
          "data": {
            "text/plain": [
              "83333.33333333333"
            ]
          },
          "metadata": {},
          "execution_count": 35
        }
      ]
    }
  ]
}