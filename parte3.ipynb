{
  "nbformat": 4,
  "nbformat_minor": 0,
  "metadata": {
    "colab": {
      "provenance": []
    },
    "kernelspec": {
      "name": "python3",
      "display_name": "Python 3"
    },
    "language_info": {
      "name": "python"
    }
  },
  "cells": [
    {
      "cell_type": "markdown",
      "source": [
        "# Resolução Atividade - Capítulo 3"
      ],
      "metadata": {
        "id": "-aOY5S9mVZw1"
      }
    },
    {
      "cell_type": "markdown",
      "source": [
        "## 1 - Módulos"
      ],
      "metadata": {
        "id": "SlLj_knOXFxQ"
      }
    },
    {
      "cell_type": "code",
      "source": [
        "import numpy as np\n",
        "import pandas as pd\n",
        "from scipy.stats import binom, poisson, expon, norm"
      ],
      "metadata": {
        "id": "kaGDoVfiXF4_"
      },
      "execution_count": null,
      "outputs": []
    },
    {
      "cell_type": "markdown",
      "source": [
        "## 2 - Utilizar a função da distribuição de Poisson para obter as seguintes probabilidades."
      ],
      "metadata": {
        "id": "jpxtzNi5XF8v"
      }
    },
    {
      "cell_type": "markdown",
      "source": [
        "a) Um departamento de polícia recebe em média 5 solicitações por hora.  Qual  a  probabilidade  de  receber  2 solicitações numa hora selecionada aleatoriamente?"
      ],
      "metadata": {
        "id": "bikkR6UtXXZ5"
      }
    },
    {
      "cell_type": "code",
      "source": [
        "x = 2\n",
        "media = 5\n",
        "poisson.pmf(k = x, mu = media)"
      ],
      "metadata": {
        "colab": {
          "base_uri": "https://localhost:8080/"
        },
        "id": "PjBAprkOXXev",
        "outputId": "897917cf-a819-4347-803c-21da21f550e6"
      },
      "execution_count": null,
      "outputs": [
        {
          "output_type": "execute_result",
          "data": {
            "text/plain": [
              "0.08422433748856832"
            ]
          },
          "metadata": {},
          "execution_count": 2
        }
      ]
    },
    {
      "cell_type": "markdown",
      "source": [
        "b) Um  número  médio  de  6  clientes  por  hora  param  para  colocar  gasolina  numa bomba. Qual é a probabilidade de 3 clientes pararem qualquer hora?"
      ],
      "metadata": {
        "id": "-t0bz33SXXiP"
      }
    },
    {
      "cell_type": "code",
      "source": [
        "x = 3\n",
        "media = 6\n",
        "poisson.pmf(k = x, mu = media)"
      ],
      "metadata": {
        "colab": {
          "base_uri": "https://localhost:8080/"
        },
        "id": "WhJY32iFXXlg",
        "outputId": "bab7ead4-e424-4561-a47d-da92627ec7cd"
      },
      "execution_count": null,
      "outputs": [
        {
          "output_type": "execute_result",
          "data": {
            "text/plain": [
              "0.08923507835998894"
            ]
          },
          "metadata": {},
          "execution_count": 3
        }
      ]
    },
    {
      "cell_type": "markdown",
      "source": [
        "c) Um  processo  de  produção  produz  10 itens  defeituosos  por  hora. Encontre a  probabilidade  que  4  ou menos itens sejam defeituosos numa retirada aleatória por hora.   "
      ],
      "metadata": {
        "id": "Xyc8R_iTXF_3"
      }
    },
    {
      "cell_type": "code",
      "source": [
        "media = 10\n",
        "n_itens = np.arange(5)\n",
        "np.sum(poisson.pmf(k = n_itens, mu=media))"
      ],
      "metadata": {
        "colab": {
          "base_uri": "https://localhost:8080/"
        },
        "id": "-lmHLDyBeGI8",
        "outputId": "955e0128-bc5b-482d-c1e5-3253190ec387"
      },
      "execution_count": null,
      "outputs": [
        {
          "output_type": "execute_result",
          "data": {
            "text/plain": [
              "0.0292526880769611"
            ]
          },
          "metadata": {},
          "execution_count": 4
        }
      ]
    },
    {
      "cell_type": "markdown",
      "source": [
        "## 3 - Utilizar a função da distribuição Binomial para obter as seguintes probabilidades."
      ],
      "metadata": {
        "id": "SScCfufheGMn"
      }
    },
    {
      "cell_type": "markdown",
      "source": [
        "a) Um engenheiro de inspeção extrai uma amostra de 15 itens aleatoriamente de um processo de fabricação sabido produzir 85% de itens aceitáveis. Qual a probabilidade de que 10 dos itens extraídos sejam aceitáveis?   "
      ],
      "metadata": {
        "id": "_Ykq8GBff2pX"
      }
    },
    {
      "cell_type": "code",
      "source": [
        "n = 15\n",
        "x = 10\n",
        "p = 0.85\n",
        "binom.pmf(k=x, n = n, p = p)"
      ],
      "metadata": {
        "colab": {
          "base_uri": "https://localhost:8080/"
        },
        "id": "CqEPbUxzf2tY",
        "outputId": "7a1d6113-1c1f-4619-db82-b0cdf2391ddf"
      },
      "execution_count": null,
      "outputs": [
        {
          "output_type": "execute_result",
          "data": {
            "text/plain": [
              "0.04489530068910986"
            ]
          },
          "metadata": {},
          "execution_count": 5
        }
      ]
    },
    {
      "cell_type": "markdown",
      "source": [
        "b) Um inspetor de qualidade extrai uma amostra de 10 tubos aleatoriamente de uma carga muito grande de tubos que  se  sabe  que  contém  20%  de  tubos defeituosos.  Qual  é  a  probabilidade  de  que  não  mais  do  que  2  dos  tubos extraídos sejam defeituosos?"
      ],
      "metadata": {
        "id": "xpRFbLfhf2xV"
      }
    },
    {
      "cell_type": "code",
      "source": [
        "n = 10\n",
        "p = 0.2\n",
        "n_defeitos = np.arange(3)\n",
        "np.sum(binom.pmf(k=n_defeitos, n = n, p = p))"
      ],
      "metadata": {
        "colab": {
          "base_uri": "https://localhost:8080/"
        },
        "id": "8MZkK6xcf20b",
        "outputId": "e54f249a-4df5-41f2-fdf2-5548c96318f9"
      },
      "execution_count": null,
      "outputs": [
        {
          "output_type": "execute_result",
          "data": {
            "text/plain": [
              "0.6777995264000003"
            ]
          },
          "metadata": {},
          "execution_count": 6
        }
      ]
    },
    {
      "cell_type": "markdown",
      "source": [
        "c) A probabilidade de ocorrência de turbulência em um determinado percurso a ser feito por uma aeronave é de 40% em um circuito diário. Seja X o número de vôos com turbulência em um total de 7 desses vôos (ou seja, uma semana de trabalho). Qual a probabilidade de que não haja turbulência em nenhum dos 7 vôos?"
      ],
      "metadata": {
        "id": "eSLS9wJd1NlT"
      }
    },
    {
      "cell_type": "code",
      "source": [
        "n = 7\n",
        "x = 0\n",
        "p = 0.4\n",
        "binom.pmf(k=x, n = n, p = p)"
      ],
      "metadata": {
        "colab": {
          "base_uri": "https://localhost:8080/"
        },
        "id": "3vz-ih3X1NpJ",
        "outputId": "ec2e10cb-fa6e-4d55-fc3c-c7f58b832863"
      },
      "execution_count": null,
      "outputs": [
        {
          "output_type": "execute_result",
          "data": {
            "text/plain": [
              "0.027993599999999987"
            ]
          },
          "metadata": {},
          "execution_count": 7
        }
      ]
    },
    {
      "cell_type": "markdown",
      "source": [
        "## 4 - Utilizar a função da distribuição Exponencial para obter as seguintes probabilidades"
      ],
      "metadata": {
        "id": "DITrAVg81NsZ"
      }
    },
    {
      "cell_type": "markdown",
      "source": [
        "a) Assumindo um tempo de resposta médio de 5 milissegundos de um aparelho de LCD. Qual a probabilidade de o tempo de resposta ser de no máximo 10 milissegundos quando você estiver jogando online?\n"
      ],
      "metadata": {
        "id": "nMV4Egmj9ctH"
      }
    },
    {
      "cell_type": "code",
      "source": [
        "x = 10\n",
        "tempo_medio = 5\n",
        "expon.cdf(x = x, scale = tempo_medio)"
      ],
      "metadata": {
        "colab": {
          "base_uri": "https://localhost:8080/"
        },
        "id": "69b_lvDi9c29",
        "outputId": "4229e484-0db9-4c77-934f-b2e156496c56"
      },
      "execution_count": null,
      "outputs": [
        {
          "output_type": "execute_result",
          "data": {
            "text/plain": [
              "0.8646647167633873"
            ]
          },
          "metadata": {},
          "execution_count": 10
        }
      ]
    },
    {
      "cell_type": "markdown",
      "source": [
        "b) Assumindo um tempo de resposta médio de 5 milissegundos de um aparelho de LCD. Qual a probabilidade de o tempo de resposta estar entre 5 e 10 milissegundos quando você estiver jogando online?\n"
      ],
      "metadata": {
        "id": "e71oI_f757-x"
      }
    },
    {
      "cell_type": "code",
      "source": [
        "tempo_medio = 5\n",
        "x5 = 5\n",
        "x10 = 10\n",
        "expon.cdf(x = x10, scale = tempo_medio) - expon.cdf(x = x5, scale = tempo_medio)"
      ],
      "metadata": {
        "colab": {
          "base_uri": "https://localhost:8080/"
        },
        "id": "_U2MDsth58Cx",
        "outputId": "8720fe86-3282-4244-a0cd-1145ad738e7d"
      },
      "execution_count": null,
      "outputs": [
        {
          "output_type": "execute_result",
          "data": {
            "text/plain": [
              "0.23254415793482963"
            ]
          },
          "metadata": {},
          "execution_count": 8
        }
      ]
    },
    {
      "cell_type": "markdown",
      "source": [
        "c) Uma máquina de injeção de termoplásticos opera durante 2 horas sem interrupção. Qual a probabilidade de essa máquina de injeção operar durante 1 hora sem interrupção de seu funcionamento"
      ],
      "metadata": {
        "id": "gBbepAvn58GB"
      }
    },
    {
      "cell_type": "code",
      "source": [
        "tempo_medio = 2\n",
        "x = 1\n",
        "1-expon.cdf(x = x, scale = tempo_medio)"
      ],
      "metadata": {
        "colab": {
          "base_uri": "https://localhost:8080/"
        },
        "id": "dr5Z4hD596S-",
        "outputId": "c5c12aa0-9002-4b14-e219-9d1d93dbf44a"
      },
      "execution_count": null,
      "outputs": [
        {
          "output_type": "execute_result",
          "data": {
            "text/plain": [
              "0.6065306597126334"
            ]
          },
          "metadata": {},
          "execution_count": 30
        }
      ]
    },
    {
      "cell_type": "markdown",
      "source": [
        "## 5 - Utilizar a função da distribuição Normal para obter as seguintes probabilidades."
      ],
      "metadata": {
        "id": "RRnVCmspEcar"
      }
    },
    {
      "cell_type": "markdown",
      "source": [
        "a) O conteúdo de glicose no sangue, em pessoas adultas, pode ser considerado como uma distribuição normal. Sua média é de 80 mg/ml e sua variância é de 16 (mg/mL)². Qual a probabilidade de um paciente apresentar níveis entre 80 e 86 mg/ml"
      ],
      "metadata": {
        "id": "QYosoUWMEce0"
      }
    },
    {
      "cell_type": "code",
      "source": [
        "media = 80\n",
        "dp = np.sqrt(16)\n",
        "\n",
        "p80 = norm.cdf(x = 80, loc = media, scale = dp)\n",
        "p86 = norm.cdf(x = 86, loc = media, scale = dp)\n",
        "\n",
        "p86 - p80"
      ],
      "metadata": {
        "colab": {
          "base_uri": "https://localhost:8080/"
        },
        "id": "hhlXv5IVGAMq",
        "outputId": "1fb2f36d-605a-47b5-ba24-e66fc24f01fe"
      },
      "execution_count": null,
      "outputs": [
        {
          "output_type": "execute_result",
          "data": {
            "text/plain": [
              "0.4331927987311419"
            ]
          },
          "metadata": {},
          "execution_count": 31
        }
      ]
    },
    {
      "cell_type": "markdown",
      "source": [
        "b) Os correios recebem, em média, pacotes de 20kg para envio, com desvio padrão de 3,5kg. Qual a probabilidade de receberem pacotes entre 25kg e 30kg?"
      ],
      "metadata": {
        "id": "zAvMEXgfGAUR"
      }
    },
    {
      "cell_type": "code",
      "source": [
        "media = 20\n",
        "dp = 3.5\n",
        "\n",
        "p25 = norm.cdf(x = 25, loc = media, scale = dp)\n",
        "p30 = norm.cdf(x = 30, loc = media, scale = dp)\n",
        "\n",
        "p30 - p25"
      ],
      "metadata": {
        "colab": {
          "base_uri": "https://localhost:8080/"
        },
        "id": "x4uoRdhQG8lZ",
        "outputId": "45daa5ca-1429-4719-dd0c-90f6411e5963"
      },
      "execution_count": null,
      "outputs": [
        {
          "output_type": "execute_result",
          "data": {
            "text/plain": [
              "0.07442635852974855"
            ]
          },
          "metadata": {},
          "execution_count": 34
        }
      ]
    },
    {
      "cell_type": "markdown",
      "source": [
        "c) Uma empresa produz equipamentos de ar-condicionado com garantia de 6 meses. O tempo até a ocorrência de um defeito nos aparelhos segue uma distribuição normal, com média de 10 meses e o desvio-padrão é de 2\n",
        "meses. Qual probabilidade do equipamento quebrar durante a garantia?"
      ],
      "metadata": {
        "id": "wFs3u8BcG8pZ"
      }
    },
    {
      "cell_type": "code",
      "source": [
        "media = 10\n",
        "dp = 2\n",
        "\n",
        "norm.cdf(x = 6, loc = media, scale = dp)"
      ],
      "metadata": {
        "colab": {
          "base_uri": "https://localhost:8080/"
        },
        "id": "X9RB67qOG8sl",
        "outputId": "9e656e9e-b147-46c1-af51-09d69b8d6ad9"
      },
      "execution_count": null,
      "outputs": [
        {
          "output_type": "execute_result",
          "data": {
            "text/plain": [
              "0.022750131948179195"
            ]
          },
          "metadata": {},
          "execution_count": 35
        }
      ]
    },
    {
      "cell_type": "code",
      "source": [],
      "metadata": {
        "id": "EaZ-S3pDEcit"
      },
      "execution_count": null,
      "outputs": []
    },
    {
      "cell_type": "code",
      "source": [],
      "metadata": {
        "id": "PRXAr5C4Ecl7"
      },
      "execution_count": null,
      "outputs": []
    }
  ]
}